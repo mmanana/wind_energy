{
 "cells": [
  {
   "cell_type": "markdown",
   "metadata": {},
   "source": [
    "# Wind analysis assignment. "
   ]
  },
  {
   "cell_type": "markdown",
   "metadata": {},
   "source": [
    "The main goal of this assignment is to learn how to manage real weather information in order to stimate the energy potential of a specific location."
   ]
  },
  {
   "cell_type": "markdown",
   "metadata": {},
   "source": [
    "Libraries needed in this exercice"
   ]
  },
  {
   "cell_type": "code",
   "execution_count": 43,
   "metadata": {
    "collapsed": true
   },
   "outputs": [],
   "source": [
    "import sys\n",
    "import math\n",
    "import numpy as np\n",
    "import pandas as pd\n",
    "import datetime as dt\n",
    "import scipy.stats as s\n",
    "import matplotlib.pyplot as plt\n",
    "%matplotlib inline"
   ]
  },
  {
   "cell_type": "markdown",
   "metadata": {},
   "source": [
    "Python version"
   ]
  },
  {
   "cell_type": "code",
   "execution_count": 44,
   "metadata": {},
   "outputs": [
    {
     "data": {
      "text/plain": [
       "'2.7.11 |Anaconda 2.3.0 (32-bit)| (default, Mar  4 2016, 15:18:41) [MSC v.1500 32 bit (Intel)]'"
      ]
     },
     "execution_count": 44,
     "metadata": {},
     "output_type": "execute_result"
    }
   ],
   "source": [
    "sys.version"
   ]
  },
  {
   "cell_type": "markdown",
   "metadata": {},
   "source": [
    "## Read csv file with weather information\n",
    "\n",
    "headers = ['col1', 'col2', 'col3', 'col4']\n",
    "\n",
    "dtypes = ['datetime', 'datetime', 'str', 'float']\n",
    "\n",
    "pd.read_csv(file, sep='\\t', header=None, names=headers, dtype=dtypes)"
   ]
  },
  {
   "cell_type": "code",
   "execution_count": 45,
   "metadata": {
    "collapsed": true
   },
   "outputs": [],
   "source": [
    "def parse_dates(x):\n",
    "    return dt.datetime.strptime(x,'%Y-%m-%d %H:%M:%S.%f')"
   ]
  },
  {
   "cell_type": "code",
   "execution_count": 46,
   "metadata": {
    "collapsed": true
   },
   "outputs": [],
   "source": [
    "headers=['time','WindSpeed','WindDir','SolarRad','AmbTemp']\n",
    "df = pd.read_csv('./weather_data_01.csv', delimiter=\";\", header=1, names=headers, parse_dates=[0], date_parser=parse_dates)"
   ]
  },
  {
   "cell_type": "code",
   "execution_count": 47,
   "metadata": {},
   "outputs": [
    {
     "name": "stdout",
     "output_type": "stream",
     "text": [
      "time          object\n",
      "WindSpeed    float64\n",
      "WindDir        int64\n",
      "SolarRad       int64\n",
      "AmbTemp      float64\n",
      "dtype: object\n"
     ]
    }
   ],
   "source": [
    "headers=['time','WindSpeed','WindDir','SolarRad','AmbTemp']\n",
    "df1 = pd.read_csv('./weather_data_01.csv', delimiter=\";\", header=1, names=headers)\n",
    "print(df1.dtypes)\n"
   ]
  },
  {
   "cell_type": "code",
   "execution_count": 48,
   "metadata": {},
   "outputs": [
    {
     "name": "stdout",
     "output_type": "stream",
     "text": [
      "['time', 'WindSpeed', 'WindDir', 'SolarRad', 'AmbTemp']\n",
      "time         datetime64[ns]\n",
      "WindSpeed           float64\n",
      "WindDir               int64\n",
      "SolarRad              int64\n",
      "AmbTemp             float64\n",
      "dtype: object\n"
     ]
    },
    {
     "data": {
      "text/html": [
       "<div>\n",
       "<table border=\"1\" class=\"dataframe\">\n",
       "  <thead>\n",
       "    <tr style=\"text-align: right;\">\n",
       "      <th></th>\n",
       "      <th>time</th>\n",
       "      <th>WindSpeed</th>\n",
       "      <th>WindDir</th>\n",
       "      <th>SolarRad</th>\n",
       "      <th>AmbTemp</th>\n",
       "    </tr>\n",
       "  </thead>\n",
       "  <tbody>\n",
       "    <tr>\n",
       "      <th>0</th>\n",
       "      <td>2013-01-01 00:10:00</td>\n",
       "      <td>6.1</td>\n",
       "      <td>256</td>\n",
       "      <td>0</td>\n",
       "      <td>7.0</td>\n",
       "    </tr>\n",
       "    <tr>\n",
       "      <th>1</th>\n",
       "      <td>2013-01-01 00:15:00</td>\n",
       "      <td>5.4</td>\n",
       "      <td>253</td>\n",
       "      <td>0</td>\n",
       "      <td>6.8</td>\n",
       "    </tr>\n",
       "    <tr>\n",
       "      <th>2</th>\n",
       "      <td>2013-01-01 00:20:00</td>\n",
       "      <td>5.8</td>\n",
       "      <td>252</td>\n",
       "      <td>0</td>\n",
       "      <td>6.8</td>\n",
       "    </tr>\n",
       "    <tr>\n",
       "      <th>3</th>\n",
       "      <td>2013-01-01 00:25:00</td>\n",
       "      <td>5.6</td>\n",
       "      <td>254</td>\n",
       "      <td>0</td>\n",
       "      <td>6.7</td>\n",
       "    </tr>\n",
       "    <tr>\n",
       "      <th>4</th>\n",
       "      <td>2013-01-01 00:30:00</td>\n",
       "      <td>5.1</td>\n",
       "      <td>246</td>\n",
       "      <td>0</td>\n",
       "      <td>6.6</td>\n",
       "    </tr>\n",
       "  </tbody>\n",
       "</table>\n",
       "</div>"
      ],
      "text/plain": [
       "                 time  WindSpeed  WindDir  SolarRad  AmbTemp\n",
       "0 2013-01-01 00:10:00        6.1      256         0      7.0\n",
       "1 2013-01-01 00:15:00        5.4      253         0      6.8\n",
       "2 2013-01-01 00:20:00        5.8      252         0      6.8\n",
       "3 2013-01-01 00:25:00        5.6      254         0      6.7\n",
       "4 2013-01-01 00:30:00        5.1      246         0      6.6"
      ]
     },
     "execution_count": 48,
     "metadata": {},
     "output_type": "execute_result"
    }
   ],
   "source": [
    "print(list(df))\n",
    "print(df.dtypes)\n",
    "df.head()"
   ]
  },
  {
   "cell_type": "code",
   "execution_count": 49,
   "metadata": {},
   "outputs": [
    {
     "name": "stdout",
     "output_type": "stream",
     "text": [
      "                     time  WindSpeed  WindDir  SolarRad  AmbTemp\n",
      "0     2013-01-01 00:10:00        6.1      256         0      7.0\n",
      "1     2013-01-01 00:15:00        5.4      253         0      6.8\n",
      "2     2013-01-01 00:20:00        5.8      252         0      6.8\n",
      "3     2013-01-01 00:25:00        5.6      254         0      6.7\n",
      "4     2013-01-01 00:30:00        5.1      246         0      6.6\n",
      "5     2013-01-01 00:35:00        5.2      240         0      6.6\n",
      "6     2013-01-01 00:40:00        5.4      239         0      6.7\n",
      "7     2013-01-01 00:45:00        5.3      235         0      6.7\n",
      "8     2013-01-01 00:50:00        5.6      239         0      6.7\n",
      "9     2013-01-01 00:55:00        5.8      238         0      6.6\n",
      "10    2013-01-01 01:00:00        6.5      240         0      6.4\n",
      "11    2013-01-01 01:05:00        6.4      236         0      6.2\n",
      "12    2013-01-01 01:10:00        5.9      231         0      6.1\n",
      "13    2013-01-01 01:15:00        5.1      225         0      5.8\n",
      "14    2013-01-01 01:20:00        4.9      225         0      5.5\n",
      "15    2013-01-01 01:25:00        4.9      233         0      5.5\n",
      "16    2013-01-01 01:30:00        5.5      243         0      5.8\n",
      "17    2013-01-01 01:35:00        6.3      247         0      6.0\n",
      "18    2013-01-01 01:40:00        6.9      248         0      6.1\n",
      "19    2013-01-01 01:45:00        8.5      256         0      6.2\n",
      "20    2013-01-01 01:50:00        7.9      255         0      6.3\n",
      "21    2013-01-01 01:55:00        6.9      255         0      6.3\n",
      "22    2013-01-01 02:00:00        6.6      253         0      6.2\n",
      "23    2013-01-01 02:05:00        6.2      251         0      6.2\n",
      "24    2013-01-01 02:10:00        5.6      251         0      6.2\n",
      "25    2013-01-01 02:15:00        5.0      252         0      6.2\n",
      "26    2013-01-01 02:20:00        4.0      252         0      6.1\n",
      "27    2013-01-01 02:25:00        4.3      236         0      6.0\n",
      "28    2013-01-01 02:30:00        4.6      224         0      6.0\n",
      "29    2013-01-01 02:35:00        4.3      218         0      5.9\n",
      "...                   ...        ...      ...       ...      ...\n",
      "85160 2013-12-31 21:30:00        7.2      234         0      8.3\n",
      "85161 2013-12-31 21:35:00        6.4      237         0      8.1\n",
      "85162 2013-12-31 21:40:00        4.6      224         0      7.8\n",
      "85163 2013-12-31 21:45:00        4.9      220         0      7.5\n",
      "85164 2013-12-31 21:50:00        5.1      219         0      7.6\n",
      "85165 2013-12-31 21:55:00        5.6      221         0      7.9\n",
      "85166 2013-12-31 22:00:00        5.6      218         0      8.0\n",
      "85167 2013-12-31 22:05:00        4.9      223         0      8.2\n",
      "85168 2013-12-31 22:10:00        5.2      230         0      8.2\n",
      "85169 2013-12-31 22:15:00        5.0      231         0      8.1\n",
      "85170 2013-12-31 22:20:00        4.8      235         0      8.0\n",
      "85171 2013-12-31 22:25:00        3.1      228         0      7.9\n",
      "85172 2013-12-31 22:30:00        1.8      256         0      7.6\n",
      "85173 2013-12-31 22:35:00        0.4       36         0      7.4\n",
      "85174 2013-12-31 22:40:00        1.0      308         0      7.0\n",
      "85175 2013-12-31 22:45:00        2.1      260         0      6.9\n",
      "85176 2013-12-31 22:50:00        2.9      254         0      6.9\n",
      "85177 2013-12-31 22:55:00        3.5      256         0      7.0\n",
      "85178 2013-12-31 23:00:00        4.0      252         0      6.9\n",
      "85179 2013-12-31 23:05:00        3.3      241         0      6.7\n",
      "85180 2013-12-31 23:10:00        2.3      195         0      6.4\n",
      "85181 2013-12-31 23:15:00        1.8      221         0      6.6\n",
      "85182 2013-12-31 23:20:00        1.5      216         0      6.8\n",
      "85183 2013-12-31 23:25:00        1.5      188         0      6.9\n",
      "85184 2013-12-31 23:30:00        0.5      232         0      7.1\n",
      "85185 2013-12-31 23:35:00        1.1      244         0      7.0\n",
      "85186 2013-12-31 23:40:00        2.4      240         0      7.0\n",
      "85187 2013-12-31 23:45:00        3.4      237         0      7.0\n",
      "85188 2013-12-31 23:50:00        4.2      249         0      7.2\n",
      "85189 2013-12-31 23:55:00        4.4      242         0      7.3\n",
      "\n",
      "[85190 rows x 5 columns]\n"
     ]
    }
   ],
   "source": [
    "print(df)"
   ]
  },
  {
   "cell_type": "code",
   "execution_count": 50,
   "metadata": {},
   "outputs": [
    {
     "name": "stdout",
     "output_type": "stream",
     "text": [
      "Number of measurements: 85190\n"
     ]
    }
   ],
   "source": [
    "N=len(df.index)\n",
    "print('Number of measurements: ' + str(N))"
   ]
  },
  {
   "cell_type": "markdown",
   "metadata": {},
   "source": [
    "## Filter data according datetime criteria"
   ]
  },
  {
   "cell_type": "markdown",
   "metadata": {},
   "source": [
    "Another way of doing this. In this approach time should be the index ix.\n",
    "\n",
    "df.ix[datetime.date(year=2013,month=1,day=1):datetime.date(year=2013,month=1,day=31)]"
   ]
  },
  {
   "cell_type": "code",
   "execution_count": 51,
   "metadata": {},
   "outputs": [
    {
     "name": "stdout",
     "output_type": "stream",
     "text": [
      "Number of measurements: 7281\n"
     ]
    }
   ],
   "source": [
    "rdf=df[(df['time'] > '2013-01-01 00:00:00') & (df['time'] < '2013-02-01 00:00:00')]\n",
    "Nrdf=len(rdf.index)\n",
    "print('Number of measurements: ' + str(Nrdf))"
   ]
  },
  {
   "cell_type": "code",
   "execution_count": 52,
   "metadata": {},
   "outputs": [
    {
     "name": "stdout",
     "output_type": "stream",
     "text": [
      "                    time  WindSpeed  WindDir  SolarRad  AmbTemp\n",
      "0    2013-01-01 00:10:00        6.1      256         0      7.0\n",
      "1    2013-01-01 00:15:00        5.4      253         0      6.8\n",
      "2    2013-01-01 00:20:00        5.8      252         0      6.8\n",
      "3    2013-01-01 00:25:00        5.6      254         0      6.7\n",
      "4    2013-01-01 00:30:00        5.1      246         0      6.6\n",
      "5    2013-01-01 00:35:00        5.2      240         0      6.6\n",
      "6    2013-01-01 00:40:00        5.4      239         0      6.7\n",
      "7    2013-01-01 00:45:00        5.3      235         0      6.7\n",
      "8    2013-01-01 00:50:00        5.6      239         0      6.7\n",
      "9    2013-01-01 00:55:00        5.8      238         0      6.6\n",
      "10   2013-01-01 01:00:00        6.5      240         0      6.4\n",
      "11   2013-01-01 01:05:00        6.4      236         0      6.2\n",
      "12   2013-01-01 01:10:00        5.9      231         0      6.1\n",
      "13   2013-01-01 01:15:00        5.1      225         0      5.8\n",
      "14   2013-01-01 01:20:00        4.9      225         0      5.5\n",
      "15   2013-01-01 01:25:00        4.9      233         0      5.5\n",
      "16   2013-01-01 01:30:00        5.5      243         0      5.8\n",
      "17   2013-01-01 01:35:00        6.3      247         0      6.0\n",
      "18   2013-01-01 01:40:00        6.9      248         0      6.1\n",
      "19   2013-01-01 01:45:00        8.5      256         0      6.2\n",
      "20   2013-01-01 01:50:00        7.9      255         0      6.3\n",
      "21   2013-01-01 01:55:00        6.9      255         0      6.3\n",
      "22   2013-01-01 02:00:00        6.6      253         0      6.2\n",
      "23   2013-01-01 02:05:00        6.2      251         0      6.2\n",
      "24   2013-01-01 02:10:00        5.6      251         0      6.2\n",
      "25   2013-01-01 02:15:00        5.0      252         0      6.2\n",
      "26   2013-01-01 02:20:00        4.0      252         0      6.1\n",
      "27   2013-01-01 02:25:00        4.3      236         0      6.0\n",
      "28   2013-01-01 02:30:00        4.6      224         0      6.0\n",
      "29   2013-01-01 02:35:00        4.3      218         0      5.9\n",
      "...                  ...        ...      ...       ...      ...\n",
      "7251 2013-01-31 21:30:00        2.2      181         0     13.1\n",
      "7252 2013-01-31 21:35:00        1.7      180         0     13.1\n",
      "7253 2013-01-31 21:40:00        0.7       74         0     12.5\n",
      "7254 2013-01-31 21:45:00        1.6       53         0     11.1\n",
      "7255 2013-01-31 21:50:00        1.3       44         0     10.8\n",
      "7256 2013-01-31 21:55:00        0.7       26         0     10.7\n",
      "7257 2013-01-31 22:00:00        0.9      198         0     10.2\n",
      "7258 2013-01-31 22:05:00        1.7      195         0     10.0\n",
      "7259 2013-01-31 22:10:00        1.7      201         0      9.9\n",
      "7260 2013-01-31 22:15:00        2.5      193         0      9.9\n",
      "7261 2013-01-31 22:20:00        3.2      204         0     10.1\n",
      "7262 2013-01-31 22:25:00        3.7      211         0     10.9\n",
      "7263 2013-01-31 22:30:00        3.3      198         0     11.9\n",
      "7264 2013-01-31 22:35:00        3.7      202         0     12.6\n",
      "7265 2013-01-31 22:40:00        4.3      207         0     12.3\n",
      "7266 2013-01-31 22:45:00        3.9      208         0     11.7\n",
      "7267 2013-01-31 22:50:00        3.6      206         0     11.7\n",
      "7268 2013-01-31 22:55:00        3.4      198         0     11.7\n",
      "7269 2013-01-31 23:00:00        3.6      198         0     12.4\n",
      "7270 2013-01-31 23:05:00        4.3      198         0     13.1\n",
      "7271 2013-01-31 23:10:00        4.2      197         0     13.8\n",
      "7272 2013-01-31 23:15:00        4.2      197         0     13.7\n",
      "7273 2013-01-31 23:20:00        4.2      195         0     13.7\n",
      "7274 2013-01-31 23:25:00        3.7      201         0     13.4\n",
      "7275 2013-01-31 23:30:00        3.4      204         0     13.3\n",
      "7276 2013-01-31 23:35:00        3.5      211         0     13.5\n",
      "7277 2013-01-31 23:40:00        3.8      211         0     13.0\n",
      "7278 2013-01-31 23:45:00        3.4      205         0     13.0\n",
      "7279 2013-01-31 23:50:00        2.7      199         0     12.7\n",
      "7280 2013-01-31 23:55:00        4.0      188         0     12.7\n",
      "\n",
      "[7281 rows x 5 columns]\n"
     ]
    }
   ],
   "source": [
    "print(rdf)"
   ]
  },
  {
   "cell_type": "markdown",
   "metadata": {},
   "source": [
    "## Some statistical data"
   ]
  },
  {
   "cell_type": "code",
   "execution_count": 53,
   "metadata": {},
   "outputs": [
    {
     "data": {
      "text/plain": [
       "4.659950556242266"
      ]
     },
     "execution_count": 53,
     "metadata": {},
     "output_type": "execute_result"
    }
   ],
   "source": [
    "np.mean(rdf['WindSpeed'])"
   ]
  },
  {
   "cell_type": "code",
   "execution_count": 54,
   "metadata": {},
   "outputs": [
    {
     "data": {
      "text/plain": [
       "0.20000000000000001"
      ]
     },
     "execution_count": 54,
     "metadata": {},
     "output_type": "execute_result"
    }
   ],
   "source": [
    "np.min(rdf['WindSpeed'])"
   ]
  },
  {
   "cell_type": "code",
   "execution_count": 55,
   "metadata": {},
   "outputs": [
    {
     "data": {
      "text/plain": [
       "15.199999999999999"
      ]
     },
     "execution_count": 55,
     "metadata": {},
     "output_type": "execute_result"
    }
   ],
   "source": [
    "np.max(rdf['WindSpeed'])"
   ]
  },
  {
   "cell_type": "code",
   "execution_count": 56,
   "metadata": {},
   "outputs": [
    {
     "name": "stdout",
     "output_type": "stream",
     "text": [
      "(4.2463249752758152, 1.7587235048049086)\n",
      "(0.20000000000000001, 15.199999999999999)\n"
     ]
    },
    {
     "data": {
      "image/png": "[encoded data removed]",
      "text/plain": [
       "<matplotlib.figure.Figure at 0x146abf90>"
      ]
     },
     "metadata": {},
     "output_type": "display_data"
    }
   ],
   "source": [
    "def weib(x,n,a):\n",
    "    return (a / n) * (x / n)**(a - 1) * np.exp(-(x / n)**a)\n",
    "\n",
    "\n",
    "data=rdf['WindSpeed']\n",
    "\n",
    "(loc, scale) = s.exponweib.fit_loc_scale(data, 0.1, 0.5)\n",
    "print(loc, scale)\n",
    "\n",
    "print(data.min(),data.max())\n",
    "\n",
    "\n",
    "x = np.linspace(data.min(), data.max(), 1000)\n",
    "\n",
    "#plt.plot(data)\n",
    "\n",
    "plt.plot(x, weib(x, loc, scale))\n",
    "n, bins, patches = plt.hist(data, 50, normed=1, facecolor='green', alpha=0.75)\n",
    "plt.xlabel('Wind Speed [m/s]')\n",
    "plt.ylabel('frequency')\n",
    "plt.show()"
   ]
  },
  {
   "cell_type": "markdown",
   "metadata": {},
   "source": [
    "The data measured during the month of January has 7281 '5-minute' intervals."
   ]
  },
  {
   "cell_type": "markdown",
   "metadata": {},
   "source": [
    "Compute the number of 5-minute intervals in a month of January without measuring gaps."
   ]
  },
  {
   "cell_type": "code",
   "execution_count": 57,
   "metadata": {},
   "outputs": [
    {
     "name": "stdout",
     "output_type": "stream",
     "text": [
      "Number of 5-minute intervals in January: 8928\n"
     ]
    }
   ],
   "source": [
    "intervals=31*24*12\n",
    "print('Number of 5-minute intervals in January: ' + str(intervals))"
   ]
  },
  {
   "cell_type": "code",
   "execution_count": 58,
   "metadata": {},
   "outputs": [
    {
     "data": {
      "image/png": "[encoded data removed]",
      "text/plain": [
       "<matplotlib.figure.Figure at 0x13ccdc70>"
      ]
     },
     "metadata": {},
     "output_type": "display_data"
    }
   ],
   "source": [
    "n, bins, patches = plt.hist(data, 50, normed=1, facecolor='green', alpha=0.75)\n",
    "plt.xlabel('Wind Speed [m/s]')\n",
    "plt.ylabel('frequency')\n",
    "plt.show()"
   ]
  },
  {
   "cell_type": "code",
   "execution_count": 59,
   "metadata": {},
   "outputs": [
    {
     "name": "stdout",
     "output_type": "stream",
     "text": [
      "[  0.2   0.5   0.8   1.1   1.4   1.7   2.    2.3   2.6   2.9   3.2   3.5\n",
      "   3.8   4.1   4.4   4.7   5.    5.3   5.6   5.9   6.2   6.5   6.8   7.1\n",
      "   7.4   7.7   8.    8.3   8.6   8.9   9.2   9.5   9.8  10.1  10.4  10.7\n",
      "  11.   11.3  11.6  11.9  12.2  12.5  12.8  13.1  13.4  13.7  14.   14.3\n",
      "  14.6  14.9  15.2]\n"
     ]
    }
   ],
   "source": [
    "print(bins)"
   ]
  },
  {
   "cell_type": "code",
   "execution_count": 60,
   "metadata": {},
   "outputs": [
    {
     "name": "stdout",
     "output_type": "stream",
     "text": [
      "[ 0.3  0.3  0.3  0.3  0.3  0.3  0.3  0.3  0.3  0.3  0.3  0.3  0.3  0.3  0.3\n",
      "  0.3  0.3  0.3  0.3  0.3  0.3  0.3  0.3  0.3  0.3  0.3  0.3  0.3  0.3  0.3\n",
      "  0.3  0.3  0.3  0.3  0.3  0.3  0.3  0.3  0.3  0.3  0.3  0.3  0.3  0.3  0.3\n",
      "  0.3  0.3  0.3  0.3  0.3]\n"
     ]
    }
   ],
   "source": [
    "print(np.diff(bins))"
   ]
  },
  {
   "cell_type": "code",
   "execution_count": 61,
   "metadata": {},
   "outputs": [
    {
     "name": "stdout",
     "output_type": "stream",
     "text": [
      "[ 0.01052969  0.03342032  0.05035938  0.0801172   0.09934533  0.1419219\n",
      "  0.24813441  0.13139221  0.23806254  0.21425628  0.17396878  0.15794534\n",
      "  0.1748844   0.09339376  0.09888752  0.1057547   0.09705627  0.11491096\n",
      "  0.09659845  0.09064689  0.0984297   0.07782814  0.07691251  0.06638282\n",
      "  0.06592501  0.05676876  0.05219063  0.04944376  0.05035938  0.03525157\n",
      "  0.03570938  0.02609532  0.02334844  0.02289063  0.01968594  0.02060157\n",
      "  0.01236094  0.01236094  0.01281875  0.01281875  0.01327656  0.00915625\n",
      "  0.00457813  0.007325    0.00457813  0.00457813  0.00549375  0.00274688\n",
      "  0.00045781  0.00137344]\n"
     ]
    }
   ],
   "source": [
    "print(n)"
   ]
  },
  {
   "cell_type": "code",
   "execution_count": 62,
   "metadata": {},
   "outputs": [
    {
     "data": {
      "text/plain": [
       "3.3333333333333348"
      ]
     },
     "execution_count": 62,
     "metadata": {},
     "output_type": "execute_result"
    }
   ],
   "source": [
    "sum(n)"
   ]
  },
  {
   "cell_type": "code",
   "execution_count": 63,
   "metadata": {},
   "outputs": [
    {
     "name": "stdout",
     "output_type": "stream",
     "text": [
      "1.0\n"
     ]
    }
   ],
   "source": [
    "print(sum(n*np.diff(bins)))"
   ]
  }
 ],
 "metadata": {
  "kernelspec": {
   "display_name": "Python 2",
   "language": "python",
   "name": "python2"
  },
  "language_info": {
   "codemirror_mode": {
    "name": "ipython",
    "version": 2
   },
   "file_extension": ".py",
   "mimetype": "text/x-python",
   "name": "python",
   "nbconvert_exporter": "python",
   "pygments_lexer": "ipython2",
   "version": "2.7.11"
  }
 },
 "nbformat": 4,
 "nbformat_minor": 2
}
